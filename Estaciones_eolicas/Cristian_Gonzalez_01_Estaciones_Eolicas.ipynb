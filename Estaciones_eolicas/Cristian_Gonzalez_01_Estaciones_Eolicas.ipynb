{
 "cells": [
  {
   "cell_type": "markdown",
   "metadata": {},
   "source": [
    "# Requerimiento 1"
   ]
  },
  {
   "cell_type": "markdown",
   "metadata": {},
   "source": [
    "> Generar una tabla unificada que contenga las siguientes columnas:\n",
    "\n",
    "Nombre de la estación.\n",
    "Fecha en el formato YYYY-MM-DD.\n",
    "Año.\n",
    "Mes.\n",
    "Dia.\n",
    "HHMMSS.\n",
    "Hora (HH).\n",
    "Minuto (MM).\n",
    "Dirección.\n",
    "Velocidad."
   ]
  },
  {
   "cell_type": "markdown",
   "metadata": {},
   "source": [
    "APRENDIZ: Cristian David Gonzalez Restrepo \n",
    "FICHA: 1751400 \n",
    "FECHA DE INICIO DEL TALLER: 20/11/2019\n"
   ]
  },
  {
   "cell_type": "code",
   "execution_count": 4,
   "metadata": {},
   "outputs": [],
   "source": [
    "estacion1 = open('files/06/EST1_Trasnf.csv').readlines()\n",
    "estacion1 = [row[0:-1]for row in estacion1]\n",
    "estacion1 = [row.split(',') for row in estacion1]\n",
    "estacion1 = estacion1[1:]\n",
    "#estacion1"
   ]
  },
  {
   "cell_type": "code",
   "execution_count": 5,
   "metadata": {},
   "outputs": [],
   "source": [
    "estacion2 = open('files/06/EST2_Trasnf.csv').readlines()\n",
    "estacion2 = [row[0:-1]for row in estacion2]\n",
    "estacion2 = [row.split(',') for row in estacion2]\n",
    "#estacion2 = estacion2[1:]\n",
    "#estacion2"
   ]
  },
  {
   "cell_type": "code",
   "execution_count": 6,
   "metadata": {},
   "outputs": [],
   "source": [
    "estacion3 = open('files/06/EST3_Trasnf.csv').readlines()\n",
    "estacion3 = [row[0:-1]for row in estacion3]\n",
    "estacion3 = [row.split(',') for row in estacion3]\n",
    "#estacion3 = estacion3[1:]\n",
    "#estacion3"
   ]
  },
  {
   "cell_type": "code",
   "execution_count": 7,
   "metadata": {},
   "outputs": [],
   "source": [
    "estacion4 = open('files/06/EST4_Trasnf.csv').readlines()\n",
    "estacion4 = [row[0:-1]for row in estacion4]\n",
    "estacion4 = [row.split(',') for row in estacion4]\n",
    "#estacion4 = estacion4[1:]\n",
    "#estacion4"
   ]
  },
  {
   "cell_type": "code",
   "execution_count": 8,
   "metadata": {},
   "outputs": [],
   "source": [
    "import time,datetime\n",
    "#Funcion para leer y tranformar los \n",
    "def filetrans(file):\n",
    "    estacion = open(file, 'r').readlines()\n",
    "    transformacion = [row[0:-1]for row in estacion]\n",
    "    transformacion = [row.split(';')for row in transformacion]\n",
    "    transformacion = transformacion[1:]\n",
    "    return transformacion\n",
    "\n",
    "data = filetrans('files/06/Estacion4.csv')"
   ]
  },
  {
   "cell_type": "code",
   "execution_count": 9,
   "metadata": {},
   "outputs": [],
   "source": [
    "#Agregar columna \n",
    "[[row[0].lower()]for row in data]\n",
    "data = [[str('Estacion1')] + row   for row in data]"
   ]
  },
  {
   "cell_type": "code",
   "execution_count": 10,
   "metadata": {},
   "outputs": [],
   "source": [
    "#cambiar formato de fecha\n",
    "def changeFormat(s):\n",
    "    return datetime.datetime.strptime(s, '%d/%m/%y').strftime('%Y/%m/%d')\n"
   ]
  },
  {
   "cell_type": "code",
   "execution_count": 11,
   "metadata": {},
   "outputs": [],
   "source": [
    "#Retornar fecha en formato YY-MM-DD\n",
    "data = [[row[0],changeFormat(row[1]),row[2],row[3],row[4]]for row in data]\n"
   ]
  },
  {
   "cell_type": "code",
   "execution_count": 12,
   "metadata": {},
   "outputs": [],
   "source": [
    "#Cambiar año \n",
    "def YEAR(s):\n",
    "    return datetime.datetime.strptime(s, '%Y/%m/%d').strftime('%Y')"
   ]
  },
  {
   "cell_type": "code",
   "execution_count": 13,
   "metadata": {},
   "outputs": [],
   "source": [
    "#Capturar en la columna\n",
    "data = [[YEAR(row[1])] + row for row in data]"
   ]
  },
  {
   "cell_type": "code",
   "execution_count": 14,
   "metadata": {},
   "outputs": [],
   "source": [
    "#ordenar datos\n",
    "data = [[row[1],row[2],row[0],row[3],row[4],row[5],]for row in data]\n",
    "#data"
   ]
  },
  {
   "cell_type": "code",
   "execution_count": 15,
   "metadata": {},
   "outputs": [],
   "source": [
    "def MONTH(s):\n",
    "    return datetime.datetime.strptime(s, '%Y/%m/%d').month"
   ]
  },
  {
   "cell_type": "code",
   "execution_count": 16,
   "metadata": {},
   "outputs": [],
   "source": [
    "data = [[MONTH(row[1])] + row for row in data]"
   ]
  },
  {
   "cell_type": "code",
   "execution_count": 17,
   "metadata": {},
   "outputs": [],
   "source": [
    "data = [[row[1],row[2],row[3],row[0],row[4],row[5],row[6]]for row in data]\n"
   ]
  },
  {
   "cell_type": "code",
   "execution_count": 18,
   "metadata": {},
   "outputs": [],
   "source": [
    "#Capturar dia del mes\n",
    "def DAYOFMONTH(s):\n",
    "    return datetime.datetime.strptime(s, '%Y/%m/%d').strftime('%d')"
   ]
  },
  {
   "cell_type": "code",
   "execution_count": 19,
   "metadata": {},
   "outputs": [],
   "source": [
    "data = [[DAYOFMONTH(row[1])] + row for row in data]"
   ]
  },
  {
   "cell_type": "code",
   "execution_count": 20,
   "metadata": {},
   "outputs": [],
   "source": [
    "data = [[row[1],row[2],row[3],row[4],row[0],row[5],row[6],row[7]]for row in data]"
   ]
  },
  {
   "cell_type": "code",
   "execution_count": 21,
   "metadata": {},
   "outputs": [],
   "source": [
    "def HOUR(s):\n",
    "    return datetime.datetime.strptime(s, '%H:%M:%S').strftime('%H')"
   ]
  },
  {
   "cell_type": "code",
   "execution_count": 22,
   "metadata": {},
   "outputs": [],
   "source": [
    "data = [[HOUR(row[5])] + row for row in data]"
   ]
  },
  {
   "cell_type": "code",
   "execution_count": 23,
   "metadata": {},
   "outputs": [],
   "source": [
    "data = [[row[1],row[2],row[3],row[4],row[5],row[6],row[0],row[7],row[8]]for row in data]\n"
   ]
  },
  {
   "cell_type": "code",
   "execution_count": 24,
   "metadata": {},
   "outputs": [],
   "source": [
    "def MINUTE(s):\n",
    "    return datetime.datetime.strptime(s, '%H:%M:%S').strftime('%M')"
   ]
  },
  {
   "cell_type": "code",
   "execution_count": 25,
   "metadata": {},
   "outputs": [],
   "source": [
    "data = [[MINUTE(row[5])] + row for row in data]"
   ]
  },
  {
   "cell_type": "code",
   "execution_count": 26,
   "metadata": {},
   "outputs": [],
   "source": [
    "data = [[row[1],row[2],row[3],row[4],row[5],row[6],row[7],row[0],row[8],row[9]]for row in data]\n"
   ]
  },
  {
   "cell_type": "markdown",
   "metadata": {},
   "source": [
    "# DATA\n"
   ]
  },
  {
   "cell_type": "code",
   "execution_count": 27,
   "metadata": {},
   "outputs": [
    {
     "name": "stdout",
     "output_type": "stream",
     "text": [
      "Hecho\n"
     ]
    }
   ],
   "source": [
    "import csv\n",
    "encabezados = [['Nombre de la estación' ,'Fecha en el formato YYYY-MM-DD' ,'Año' ,'Mes' ,'Dia', 'HHMMSS' ,'Hora (HH)' ,'Minuto (MM)','Dirección' ,'Velocidad']]\n",
    "with open('files/06/EST4_Trasnf.csv1','w',newline = '')as file:\n",
    "    writer = csv.writer(file,delimiter = ',')\n",
    "    writer.writerows(encabezados)\n",
    "    writer.writerows(data)\n",
    "    print('Hecho')"
   ]
  },
  {
   "cell_type": "code",
   "execution_count": 28,
   "metadata": {},
   "outputs": [
    {
     "name": "stdout",
     "output_type": "stream",
     "text": [
      "Hecho\n"
     ]
    }
   ],
   "source": [
    "import csv\n",
    "encabezados = [['Nombre de la estación' ,'Fecha en el formato YYYY-MM-DD' ,'Año' ,'Mes' ,'Dia', 'HHMMSS' ,'Hora (HH)' ,'Minuto (MM)','Dirección' ,'Velocidad']]\n",
    "with open('files/06/EST_Trasnf_Final1.csv','w',newline = '')as file:\n",
    "    writer = csv.writer(file,delimiter = ',')\n",
    "    writer.writerows(encabezados)\n",
    "    writer.writerows(estacion1)\n",
    "    writer.writerows(estacion2)\n",
    "    writer.writerows(estacion3)\n",
    "    writer.writerows(estacion4)\n",
    "    print('Hecho')"
   ]
  },
  {
   "cell_type": "code",
   "execution_count": null,
   "metadata": {},
   "outputs": [],
   "source": []
  }
 ],
 "metadata": {
  "kernelspec": {
   "display_name": "Python 3",
   "language": "python",
   "name": "python3"
  },
  "language_info": {
   "codemirror_mode": {
    "name": "ipython",
    "version": 3
   },
   "file_extension": ".py",
   "mimetype": "text/x-python",
   "name": "python",
   "nbconvert_exporter": "python",
   "pygments_lexer": "ipython3",
   "version": "3.7.3"
  }
 },
 "nbformat": 4,
 "nbformat_minor": 2
}
